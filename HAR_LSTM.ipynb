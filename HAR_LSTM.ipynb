{
 "cells": [
  {
   "cell_type": "code",
   "execution_count": 1,
   "metadata": {
    "collapsed": true
   },
   "outputs": [],
   "source": [
    "# Importing Libraries"
   ]
  },
  {
   "cell_type": "code",
   "execution_count": 1,
   "metadata": {},
   "outputs": [],
   "source": [
    "import pandas as pd\n",
    "import numpy as np"
   ]
  },
  {
   "cell_type": "code",
   "execution_count": 2,
   "metadata": {},
   "outputs": [],
   "source": [
    "# Activities are the class labels\n",
    "# It is a 6 class classification\n",
    "ACTIVITIES = {\n",
    "    0: 'WALKING',\n",
    "    1: 'WALKING_UPSTAIRS',\n",
    "    2: 'WALKING_DOWNSTAIRS',\n",
    "    3: 'SITTING',\n",
    "    4: 'STANDING',\n",
    "    5: 'LAYING',\n",
    "}\n",
    "\n",
    "# Utility function to print the confusion matrix\n",
    "def confusion_matrix(Y_true, Y_pred):\n",
    "    Y_true = pd.Series([ACTIVITIES[y] for y in np.argmax(Y_true, axis=1)])\n",
    "    Y_pred = pd.Series([ACTIVITIES[y] for y in np.argmax(Y_pred, axis=1)])\n",
    "\n",
    "    return pd.crosstab(Y_true, Y_pred, rownames=['True'], colnames=['Pred'])"
   ]
  },
  {
   "cell_type": "markdown",
   "metadata": {},
   "source": [
    "### Data"
   ]
  },
  {
   "cell_type": "code",
   "execution_count": 3,
   "metadata": {},
   "outputs": [],
   "source": [
    "# Data directory\n",
    "DATADIR = 'UCI_HAR_Dataset'"
   ]
  },
  {
   "cell_type": "code",
   "execution_count": 4,
   "metadata": {},
   "outputs": [],
   "source": [
    "# Raw data signals\n",
    "# Signals are from Accelerometer and Gyroscope\n",
    "# The signals are in x,y,z directions\n",
    "# Sensor signals are filtered to have only body acceleration\n",
    "# excluding the acceleration due to gravity\n",
    "# Triaxial acceleration from the accelerometer is total acceleration\n",
    "SIGNALS = [\n",
    "    \"body_acc_x\",\n",
    "    \"body_acc_y\",\n",
    "    \"body_acc_z\",\n",
    "    \"body_gyro_x\",\n",
    "    \"body_gyro_y\",\n",
    "    \"body_gyro_z\",\n",
    "    \"total_acc_x\",\n",
    "    \"total_acc_y\",\n",
    "    \"total_acc_z\"\n",
    "]"
   ]
  },
  {
   "cell_type": "code",
   "execution_count": 5,
   "metadata": {},
   "outputs": [],
   "source": [
    "# Utility function to read the data from csv file\n",
    "def _read_csv(filename):\n",
    "    return pd.read_csv(filename, delim_whitespace=True, header=None)\n",
    "\n",
    "# Utility function to load the load\n",
    "def load_signals(subset):\n",
    "    signals_data = []\n",
    "\n",
    "    for signal in SIGNALS:\n",
    "        filename = f'UCI_HAR_Dataset/{subset}/Inertial Signals/{signal}_{subset}.txt'\n",
    "        signals_data.append(\n",
    "            _read_csv(filename).values\n",
    "        ) \n",
    "\n",
    "    # Transpose is used to change the dimensionality of the output,\n",
    "    # aggregating the signals by combination of sample/timestep.\n",
    "    # Resultant shape is (7352 train/2947 test samples, 128 timesteps, 9 signals)\n",
    "    return np.transpose(signals_data, (1, 2, 0))"
   ]
  },
  {
   "cell_type": "code",
   "execution_count": 6,
   "metadata": {},
   "outputs": [],
   "source": [
    "\n",
    "def load_y(subset):\n",
    "    \"\"\"\n",
    "    The objective that we are trying to predict is a integer, from 1 to 6,\n",
    "    that represents a human activity. We return a binary representation of \n",
    "    every sample objective as a 6 bits vector using One Hot Encoding\n",
    "    (https://pandas.pydata.org/pandas-docs/stable/generated/pandas.get_dummies.html)\n",
    "    \"\"\"\n",
    "    filename = f'UCI_HAR_Dataset/{subset}/y_{subset}.txt'\n",
    "    y = _read_csv(filename)[0]\n",
    "\n",
    "    return pd.get_dummies(y).values"
   ]
  },
  {
   "cell_type": "code",
   "execution_count": 7,
   "metadata": {},
   "outputs": [],
   "source": [
    "def load_data():\n",
    "    \"\"\"\n",
    "    Obtain the dataset from multiple files.\n",
    "    Returns: X_train, X_test, y_train, y_test\n",
    "    \"\"\"\n",
    "    X_train, X_test = load_signals('train'), load_signals('test')\n",
    "    y_train, y_test = load_y('train'), load_y('test')\n",
    "\n",
    "    return X_train, X_test, y_train, y_test"
   ]
  },
  {
   "cell_type": "code",
   "execution_count": 8,
   "metadata": {},
   "outputs": [],
   "source": [
    "# Importing tensorflow\n",
    "np.random.seed(42)\n",
    "import tensorflow as tf\n",
    "tf.random.set_seed(42)"
   ]
  },
  {
   "cell_type": "code",
   "execution_count": 9,
   "metadata": {},
   "outputs": [],
   "source": [
    "# Configuring a session\n",
    "session_conf = tf.compat.v1.ConfigProto(\n",
    "    intra_op_parallelism_threads=1,\n",
    "    inter_op_parallelism_threads=1\n",
    ")"
   ]
  },
  {
   "cell_type": "code",
   "execution_count": 10,
   "metadata": {},
   "outputs": [],
   "source": [
    "# Import Keras\n",
    "from keras import backend as K\n",
    "sess = tf.compat.v1.Session(graph=tf.compat.v1.get_default_graph(), config=session_conf)\n",
    "K.set_session(sess)"
   ]
  },
  {
   "cell_type": "code",
   "execution_count": 11,
   "metadata": {},
   "outputs": [],
   "source": [
    "# Importing libraries\n",
    "from keras.models import Sequential\n",
    "from keras.layers import LSTM\n",
    "from keras.layers.core import Dense, Dropout"
   ]
  },
  {
   "cell_type": "code",
   "execution_count": 12,
   "metadata": {},
   "outputs": [],
   "source": [
    "# Initializing parameters\n",
    "epochs = 30\n",
    "batch_size = 16\n",
    "n_hidden = 32"
   ]
  },
  {
   "cell_type": "code",
   "execution_count": 13,
   "metadata": {},
   "outputs": [],
   "source": [
    "# Utility function to count the number of classes\n",
    "def _count_classes(y):\n",
    "    return len(set([tuple(category) for category in y]))"
   ]
  },
  {
   "cell_type": "code",
   "execution_count": 14,
   "metadata": {},
   "outputs": [],
   "source": [
    "# Loading the train and test data\n",
    "X_train, X_test, Y_train, Y_test = load_data()"
   ]
  },
  {
   "cell_type": "code",
   "execution_count": 15,
   "metadata": {},
   "outputs": [
    {
     "name": "stdout",
     "output_type": "stream",
     "text": [
      "128\n",
      "9\n",
      "7352\n"
     ]
    }
   ],
   "source": [
    "timesteps = len(X_train[0])\n",
    "input_dim = len(X_train[0][0])\n",
    "n_classes = _count_classes(Y_train)\n",
    "\n",
    "print(timesteps)\n",
    "print(input_dim)\n",
    "print(len(X_train))"
   ]
  },
  {
   "cell_type": "markdown",
   "metadata": {},
   "source": [
    "- Defining the Architecture of LSTM"
   ]
  },
  {
   "cell_type": "code",
   "execution_count": 16,
   "metadata": {},
   "outputs": [
    {
     "name": "stdout",
     "output_type": "stream",
     "text": [
      "Model: \"sequential\"\n",
      "_________________________________________________________________\n",
      " Layer (type)                Output Shape              Param #   \n",
      "=================================================================\n",
      " lstm (LSTM)                 (None, 32)                5376      \n",
      "                                                                 \n",
      " dropout (Dropout)           (None, 32)                0         \n",
      "                                                                 \n",
      " dense (Dense)               (None, 6)                 198       \n",
      "                                                                 \n",
      "=================================================================\n",
      "Total params: 5,574\n",
      "Trainable params: 5,574\n",
      "Non-trainable params: 0\n",
      "_________________________________________________________________\n"
     ]
    }
   ],
   "source": [
    "# Initiliazing the sequential model\n",
    "model = Sequential()\n",
    "# Configuring the parameters\n",
    "model.add(LSTM(n_hidden, input_shape=(timesteps, input_dim)))\n",
    "# Adding a dropout layer\n",
    "model.add(Dropout(0.5))\n",
    "# Adding a dense output layer with sigmoid activation\n",
    "model.add(Dense(n_classes, activation='sigmoid'))\n",
    "model.summary()"
   ]
  },
  {
   "cell_type": "code",
   "execution_count": 17,
   "metadata": {},
   "outputs": [],
   "source": [
    "# Compiling the model\n",
    "model.compile(loss='categorical_crossentropy',\n",
    "              optimizer='rmsprop',\n",
    "              metrics=['accuracy'])"
   ]
  },
  {
   "cell_type": "code",
   "execution_count": 18,
   "metadata": {},
   "outputs": [
    {
     "name": "stdout",
     "output_type": "stream",
     "text": [
      "Epoch 1/30\n",
      "460/460 [==============================] - 19s 38ms/step - loss: 1.1752 - accuracy: 0.5071 - val_loss: 0.9002 - val_accuracy: 0.6342\n",
      "Epoch 2/30\n",
      "460/460 [==============================] - 17s 37ms/step - loss: 0.7899 - accuracy: 0.6609 - val_loss: 0.7771 - val_accuracy: 0.6732\n",
      "Epoch 3/30\n",
      "460/460 [==============================] - 17s 36ms/step - loss: 0.6588 - accuracy: 0.7218 - val_loss: 0.6716 - val_accuracy: 0.7336\n",
      "Epoch 4/30\n",
      "460/460 [==============================] - 17s 36ms/step - loss: 0.5172 - accuracy: 0.8066 - val_loss: 0.6045 - val_accuracy: 0.7927\n",
      "Epoch 5/30\n",
      "460/460 [==============================] - 17s 36ms/step - loss: 0.3891 - accuracy: 0.8738 - val_loss: 0.5608 - val_accuracy: 0.8286\n",
      "Epoch 6/30\n",
      "460/460 [==============================] - 17s 36ms/step - loss: 0.3089 - accuracy: 0.9091 - val_loss: 0.4438 - val_accuracy: 0.8673\n",
      "Epoch 7/30\n",
      "460/460 [==============================] - 17s 36ms/step - loss: 0.2665 - accuracy: 0.9173 - val_loss: 0.4275 - val_accuracy: 0.8795\n",
      "Epoch 8/30\n",
      "460/460 [==============================] - 17s 36ms/step - loss: 0.2400 - accuracy: 0.9248 - val_loss: 0.4365 - val_accuracy: 0.8680\n",
      "Epoch 9/30\n",
      "460/460 [==============================] - 17s 36ms/step - loss: 0.2260 - accuracy: 0.9282 - val_loss: 0.4178 - val_accuracy: 0.8833\n",
      "Epoch 10/30\n",
      "460/460 [==============================] - 17s 36ms/step - loss: 0.2186 - accuracy: 0.9310 - val_loss: 0.4347 - val_accuracy: 0.8717\n",
      "Epoch 11/30\n",
      "460/460 [==============================] - 17s 36ms/step - loss: 0.2203 - accuracy: 0.9287 - val_loss: 0.4207 - val_accuracy: 0.8812\n",
      "Epoch 12/30\n",
      "460/460 [==============================] - 17s 36ms/step - loss: 0.1811 - accuracy: 0.9387 - val_loss: 0.3856 - val_accuracy: 0.8846\n",
      "Epoch 13/30\n",
      "460/460 [==============================] - 17s 36ms/step - loss: 0.1838 - accuracy: 0.9377 - val_loss: 0.4190 - val_accuracy: 0.8795\n",
      "Epoch 14/30\n",
      "460/460 [==============================] - 17s 36ms/step - loss: 0.1641 - accuracy: 0.9415 - val_loss: 0.5003 - val_accuracy: 0.8873\n",
      "Epoch 15/30\n",
      "460/460 [==============================] - 17s 36ms/step - loss: 0.1748 - accuracy: 0.9410 - val_loss: 0.5314 - val_accuracy: 0.8738\n",
      "Epoch 16/30\n",
      "460/460 [==============================] - 17s 36ms/step - loss: 0.1632 - accuracy: 0.9412 - val_loss: 0.5506 - val_accuracy: 0.8714\n",
      "Epoch 17/30\n",
      "460/460 [==============================] - 17s 36ms/step - loss: 0.1712 - accuracy: 0.9415 - val_loss: 0.6236 - val_accuracy: 0.8738\n",
      "Epoch 18/30\n",
      "460/460 [==============================] - 17s 37ms/step - loss: 0.1615 - accuracy: 0.9442 - val_loss: 0.5977 - val_accuracy: 0.8846\n",
      "Epoch 19/30\n",
      "460/460 [==============================] - 17s 37ms/step - loss: 0.1502 - accuracy: 0.9437 - val_loss: 0.4714 - val_accuracy: 0.8646\n",
      "Epoch 20/30\n",
      "460/460 [==============================] - 17s 37ms/step - loss: 0.1500 - accuracy: 0.9461 - val_loss: 0.7396 - val_accuracy: 0.8799\n",
      "Epoch 21/30\n",
      "460/460 [==============================] - 18s 38ms/step - loss: 0.1593 - accuracy: 0.9429 - val_loss: 0.3233 - val_accuracy: 0.8982\n",
      "Epoch 22/30\n",
      "460/460 [==============================] - 19s 40ms/step - loss: 0.1491 - accuracy: 0.9464 - val_loss: 0.5668 - val_accuracy: 0.8958\n",
      "Epoch 23/30\n",
      "460/460 [==============================] - 17s 37ms/step - loss: 0.1470 - accuracy: 0.9472 - val_loss: 0.5742 - val_accuracy: 0.9006\n",
      "Epoch 24/30\n",
      "460/460 [==============================] - 17s 37ms/step - loss: 0.1481 - accuracy: 0.9452 - val_loss: 0.6240 - val_accuracy: 0.8894\n",
      "Epoch 25/30\n",
      "460/460 [==============================] - 17s 37ms/step - loss: 0.1426 - accuracy: 0.9474 - val_loss: 0.6066 - val_accuracy: 0.8806\n",
      "Epoch 26/30\n",
      "460/460 [==============================] - 17s 37ms/step - loss: 0.1526 - accuracy: 0.9479 - val_loss: 0.5340 - val_accuracy: 0.8996\n",
      "Epoch 27/30\n",
      "460/460 [==============================] - 17s 37ms/step - loss: 0.1372 - accuracy: 0.9480 - val_loss: 0.3986 - val_accuracy: 0.8992\n",
      "Epoch 28/30\n",
      "460/460 [==============================] - 18s 38ms/step - loss: 0.1379 - accuracy: 0.9493 - val_loss: 0.4318 - val_accuracy: 0.8965\n",
      "Epoch 29/30\n",
      "460/460 [==============================] - 18s 38ms/step - loss: 0.1436 - accuracy: 0.9463 - val_loss: 0.4148 - val_accuracy: 0.8992\n",
      "Epoch 30/30\n",
      "460/460 [==============================] - 17s 38ms/step - loss: 0.1387 - accuracy: 0.9501 - val_loss: 0.4191 - val_accuracy: 0.8826\n"
     ]
    },
    {
     "data": {
      "text/plain": [
       "<keras.callbacks.History at 0x259c7db5040>"
      ]
     },
     "execution_count": 18,
     "metadata": {},
     "output_type": "execute_result"
    }
   ],
   "source": [
    "# Training the model\n",
    "model.fit(X_train,\n",
    "          Y_train,\n",
    "          batch_size=batch_size,\n",
    "          validation_data=(X_test, Y_test),\n",
    "          epochs=epochs)"
   ]
  },
  {
   "cell_type": "code",
   "execution_count": 19,
   "metadata": {},
   "outputs": [
    {
     "name": "stdout",
     "output_type": "stream",
     "text": [
      "93/93 [==============================] - 2s 12ms/step\n",
      "Pred                LAYING  SITTING  STANDING  WALKING  WALKING_DOWNSTAIRS  \\\n",
      "True                                                                         \n",
      "LAYING                 510        0         0        0                   0   \n",
      "SITTING                  0      418        69        1                   0   \n",
      "STANDING                 0      128       401        2                   0   \n",
      "WALKING                  0       16         4      439                  17   \n",
      "WALKING_DOWNSTAIRS       0        0         0        1                 415   \n",
      "WALKING_UPSTAIRS         0        3         0       10                  40   \n",
      "\n",
      "Pred                WALKING_UPSTAIRS  \n",
      "True                                  \n",
      "LAYING                            27  \n",
      "SITTING                            3  \n",
      "STANDING                           1  \n",
      "WALKING                           20  \n",
      "WALKING_DOWNSTAIRS                 4  \n",
      "WALKING_UPSTAIRS                 418  \n"
     ]
    }
   ],
   "source": [
    "# Confusion Matrix\n",
    "print(confusion_matrix(Y_test, model.predict(X_test)))"
   ]
  },
  {
   "cell_type": "code",
   "execution_count": 20,
   "metadata": {},
   "outputs": [
    {
     "name": "stdout",
     "output_type": "stream",
     "text": [
      "93/93 [==============================] - 1s 12ms/step - loss: 0.4191 - accuracy: 0.8826\n"
     ]
    }
   ],
   "source": [
    "score = model.evaluate(X_test, Y_test)"
   ]
  },
  {
   "cell_type": "code",
   "execution_count": 62,
   "metadata": {},
   "outputs": [
    {
     "data": {
      "text/plain": [
       "[0.41908523440361023, 0.8825924396514893]"
      ]
     },
     "execution_count": 62,
     "metadata": {},
     "output_type": "execute_result"
    }
   ],
   "source": [
    "score"
   ]
  },
  {
   "cell_type": "markdown",
   "metadata": {},
   "source": [
    "- With a simple 2 layer architecture we got 88.26% accuracy and a loss of 0.41\n",
    "- We can further imporve the performace with Hyperparameter tuning"
   ]
  },
  {
   "cell_type": "code",
   "execution_count": null,
   "metadata": {},
   "outputs": [],
   "source": []
  }
 ],
 "metadata": {
  "kernelspec": {
   "display_name": "Python 3",
   "language": "python",
   "name": "python3"
  },
  "language_info": {
   "codemirror_mode": {
    "name": "ipython",
    "version": 3
   },
   "file_extension": ".py",
   "mimetype": "text/x-python",
   "name": "python",
   "nbconvert_exporter": "python",
   "pygments_lexer": "ipython3",
   "version": "3.8.8"
  }
 },
 "nbformat": 4,
 "nbformat_minor": 2
}
